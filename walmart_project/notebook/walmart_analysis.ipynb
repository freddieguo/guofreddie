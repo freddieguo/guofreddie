{
 "cells": [
  {
   "cell_type": "markdown",
   "metadata": {},
   "source": [
    "# Walmart Sales Analysis\n",
    "\n",
    "## Objective\n",
    "The idea of this project is to practice turning raw data into insights that matter for a business.  \n",
    "We’re looking at Walmart’s weekly sales data and asking: *what patterns can we find that would actually help a manager make decisions?*\n",
    "\n",
    "\n",
    "## Business Questions\n",
    "1. **Concentration:** How many stores are responsible for 50% and 80% of Walmart’s total sales?  \n",
    "   → Why: If most sales come from just a few stores, those stores need more focus (inventory, promotions, staff).\n",
    "\n",
    "2. **Holiday Impact:** Do sales really jump during holiday weeks, and by how much?  \n",
    "   → Why: Managers can use this to plan ahead — schedule more workers and stock more products.\n",
    "\n",
    "3. **Seasonality:** Which months or seasons bring in the most sales?  \n",
    "   → Why: This helps understand yearly cycles and plan marketing campaigns.\n",
    "\n",
    "4. **Trend Direction:** Over the years, are sales going up or down overall?  \n",
    "   → Why: Shows whether demand is growing or cooling off in the long run.\n",
    "\n",
    "5. **Macro Factors:** Do things like temperature, fuel price, CPI, or unemployment affect sales?  \n",
    "   → Why: External conditions often change customer spending — good to know what matters most.\n",
    "\n",
    "\n",
    "## Dataset\n",
    "\n",
    "- **Source:** Kaggle — *Walmart Sales* dataset. (https://www.kaggle.com/datasets/mikhail1681/walmart-sales/data)\n",
    "- **File Used:** `Walmart_Sales.csv`  "
   ]
  },
  {
   "cell_type": "markdown",
   "metadata": {},
   "source": [
    "## Load Data\n",
    "\n",
    "The goal here is just to **make sure the file loads correctly** and then **get a quick idea** of what’s inside.\n"
   ]
  },
  {
   "cell_type": "code",
   "execution_count": 6,
   "metadata": {},
   "outputs": [
    {
     "data": {
      "text/html": [
       "<div>\n",
       "<style scoped>\n",
       "    .dataframe tbody tr th:only-of-type {\n",
       "        vertical-align: middle;\n",
       "    }\n",
       "\n",
       "    .dataframe tbody tr th {\n",
       "        vertical-align: top;\n",
       "    }\n",
       "\n",
       "    .dataframe thead th {\n",
       "        text-align: right;\n",
       "    }\n",
       "</style>\n",
       "<table border=\"1\" class=\"dataframe\">\n",
       "  <thead>\n",
       "    <tr style=\"text-align: right;\">\n",
       "      <th></th>\n",
       "      <th>Store</th>\n",
       "      <th>Date</th>\n",
       "      <th>Weekly_Sales</th>\n",
       "      <th>Holiday_Flag</th>\n",
       "      <th>Temperature</th>\n",
       "      <th>Fuel_Price</th>\n",
       "      <th>CPI</th>\n",
       "      <th>Unemployment</th>\n",
       "    </tr>\n",
       "  </thead>\n",
       "  <tbody>\n",
       "    <tr>\n",
       "      <th>0</th>\n",
       "      <td>1</td>\n",
       "      <td>05-02-2010</td>\n",
       "      <td>1643690.90</td>\n",
       "      <td>0</td>\n",
       "      <td>42.31</td>\n",
       "      <td>2.572</td>\n",
       "      <td>211.096358</td>\n",
       "      <td>8.106</td>\n",
       "    </tr>\n",
       "    <tr>\n",
       "      <th>1</th>\n",
       "      <td>1</td>\n",
       "      <td>12-02-2010</td>\n",
       "      <td>1641957.44</td>\n",
       "      <td>1</td>\n",
       "      <td>38.51</td>\n",
       "      <td>2.548</td>\n",
       "      <td>211.242170</td>\n",
       "      <td>8.106</td>\n",
       "    </tr>\n",
       "    <tr>\n",
       "      <th>2</th>\n",
       "      <td>1</td>\n",
       "      <td>19-02-2010</td>\n",
       "      <td>1611968.17</td>\n",
       "      <td>0</td>\n",
       "      <td>39.93</td>\n",
       "      <td>2.514</td>\n",
       "      <td>211.289143</td>\n",
       "      <td>8.106</td>\n",
       "    </tr>\n",
       "    <tr>\n",
       "      <th>3</th>\n",
       "      <td>1</td>\n",
       "      <td>26-02-2010</td>\n",
       "      <td>1409727.59</td>\n",
       "      <td>0</td>\n",
       "      <td>46.63</td>\n",
       "      <td>2.561</td>\n",
       "      <td>211.319643</td>\n",
       "      <td>8.106</td>\n",
       "    </tr>\n",
       "    <tr>\n",
       "      <th>4</th>\n",
       "      <td>1</td>\n",
       "      <td>05-03-2010</td>\n",
       "      <td>1554806.68</td>\n",
       "      <td>0</td>\n",
       "      <td>46.50</td>\n",
       "      <td>2.625</td>\n",
       "      <td>211.350143</td>\n",
       "      <td>8.106</td>\n",
       "    </tr>\n",
       "  </tbody>\n",
       "</table>\n",
       "</div>"
      ],
      "text/plain": [
       "   Store        Date  Weekly_Sales  Holiday_Flag  Temperature  Fuel_Price  \\\n",
       "0      1  05-02-2010    1643690.90             0        42.31       2.572   \n",
       "1      1  12-02-2010    1641957.44             1        38.51       2.548   \n",
       "2      1  19-02-2010    1611968.17             0        39.93       2.514   \n",
       "3      1  26-02-2010    1409727.59             0        46.63       2.561   \n",
       "4      1  05-03-2010    1554806.68             0        46.50       2.625   \n",
       "\n",
       "          CPI  Unemployment  \n",
       "0  211.096358         8.106  \n",
       "1  211.242170         8.106  \n",
       "2  211.289143         8.106  \n",
       "3  211.319643         8.106  \n",
       "4  211.350143         8.106  "
      ]
     },
     "execution_count": 6,
     "metadata": {},
     "output_type": "execute_result"
    }
   ],
   "source": [
    "import pandas as pd\n",
    "\n",
    "# Load CSV\n",
    "df = pd.read_csv(\"../data/Walmart_Sales.csv\")\n",
    "\n",
    "# Look at the first few rows\n",
    "df.head()"
   ]
  },
  {
   "cell_type": "code",
   "execution_count": 7,
   "metadata": {},
   "outputs": [],
   "source": [
    "# Convert the Date column to proper datetime format (dataset uses dd-mm-YYYY)\n",
    "df[\"Date\"] = pd.to_datetime(df[\"Date\"], format=\"%d-%m-%Y\")"
   ]
  },
  {
   "cell_type": "code",
   "execution_count": 11,
   "metadata": {},
   "outputs": [
    {
     "name": "stdout",
     "output_type": "stream",
     "text": [
      "Shape of dataset: (6435, 8)\n",
      "\n",
      "\n",
      "Column info:\n",
      "Store                    int64\n",
      "Date            datetime64[ns]\n",
      "Weekly_Sales           float64\n",
      "Holiday_Flag             int64\n",
      "Temperature            float64\n",
      "Fuel_Price             float64\n",
      "CPI                    float64\n",
      "Unemployment           float64\n",
      "dtype: object\n",
      "\n",
      "Missing values per column:\n",
      "Store           0\n",
      "Date            0\n",
      "Weekly_Sales    0\n",
      "Holiday_Flag    0\n",
      "Temperature     0\n",
      "Fuel_Price      0\n",
      "CPI             0\n",
      "Unemployment    0\n",
      "dtype: int64\n"
     ]
    }
   ],
   "source": [
    "# Shape = number of rows, number of columns\n",
    "print(\"Shape of dataset:\", df.shape)\n",
    "\n",
    "# Data types of each column\n",
    "print(\"\\n\")\n",
    "print(\"Column info:\")\n",
    "print(df.dtypes)\n",
    "\n",
    "# Check for missing values\n",
    "print(\"\\nMissing values per column:\")\n",
    "print(df.isna().sum())"
   ]
  },
  {
   "cell_type": "code",
   "execution_count": 13,
   "metadata": {},
   "outputs": [
    {
     "data": {
      "text/html": [
       "<div>\n",
       "<style scoped>\n",
       "    .dataframe tbody tr th:only-of-type {\n",
       "        vertical-align: middle;\n",
       "    }\n",
       "\n",
       "    .dataframe tbody tr th {\n",
       "        vertical-align: top;\n",
       "    }\n",
       "\n",
       "    .dataframe thead th {\n",
       "        text-align: right;\n",
       "    }\n",
       "</style>\n",
       "<table border=\"1\" class=\"dataframe\">\n",
       "  <thead>\n",
       "    <tr style=\"text-align: right;\">\n",
       "      <th></th>\n",
       "      <th>Store</th>\n",
       "      <th>Date</th>\n",
       "      <th>Weekly_Sales</th>\n",
       "      <th>Holiday_Flag</th>\n",
       "      <th>Temperature</th>\n",
       "      <th>Fuel_Price</th>\n",
       "      <th>CPI</th>\n",
       "      <th>Unemployment</th>\n",
       "      <th>Year</th>\n",
       "      <th>Month</th>\n",
       "      <th>Week</th>\n",
       "    </tr>\n",
       "  </thead>\n",
       "  <tbody>\n",
       "    <tr>\n",
       "      <th>min</th>\n",
       "      <td>1.0</td>\n",
       "      <td>2010-02-05 00:00:00</td>\n",
       "      <td>209986.25</td>\n",
       "      <td>0.0</td>\n",
       "      <td>-2.06</td>\n",
       "      <td>2.472</td>\n",
       "      <td>126.064000</td>\n",
       "      <td>3.879</td>\n",
       "      <td>2010.0</td>\n",
       "      <td>1.0</td>\n",
       "      <td>1.0</td>\n",
       "    </tr>\n",
       "    <tr>\n",
       "      <th>max</th>\n",
       "      <td>45.0</td>\n",
       "      <td>2012-10-26 00:00:00</td>\n",
       "      <td>3818686.45</td>\n",
       "      <td>1.0</td>\n",
       "      <td>100.14</td>\n",
       "      <td>4.468</td>\n",
       "      <td>227.232807</td>\n",
       "      <td>14.313</td>\n",
       "      <td>2012.0</td>\n",
       "      <td>12.0</td>\n",
       "      <td>52.0</td>\n",
       "    </tr>\n",
       "  </tbody>\n",
       "</table>\n",
       "</div>"
      ],
      "text/plain": [
       "     Store                 Date  Weekly_Sales  Holiday_Flag  Temperature  \\\n",
       "min    1.0  2010-02-05 00:00:00     209986.25           0.0        -2.06   \n",
       "max   45.0  2012-10-26 00:00:00    3818686.45           1.0       100.14   \n",
       "\n",
       "     Fuel_Price         CPI  Unemployment    Year  Month  Week  \n",
       "min       2.472  126.064000         3.879  2010.0    1.0   1.0  \n",
       "max       4.468  227.232807        14.313  2012.0   12.0  52.0  "
      ]
     },
     "execution_count": 13,
     "metadata": {},
     "output_type": "execute_result"
    }
   ],
   "source": [
    "# Quick overview of min & max for all columns\n",
    "df.describe().loc[[\"min\", \"max\"]]"
   ]
  },
  {
   "cell_type": "markdown",
   "metadata": {},
   "source": [
    "## Feature Engineering\n",
    "\n",
    "The goal here is to add time-based columns so grouping/plotting is easier (this is like adding helper columns in Excel)."
   ]
  },
  {
   "cell_type": "code",
   "execution_count": 12,
   "metadata": {},
   "outputs": [
    {
     "data": {
      "text/html": [
       "<div>\n",
       "<style scoped>\n",
       "    .dataframe tbody tr th:only-of-type {\n",
       "        vertical-align: middle;\n",
       "    }\n",
       "\n",
       "    .dataframe tbody tr th {\n",
       "        vertical-align: top;\n",
       "    }\n",
       "\n",
       "    .dataframe thead th {\n",
       "        text-align: right;\n",
       "    }\n",
       "</style>\n",
       "<table border=\"1\" class=\"dataframe\">\n",
       "  <thead>\n",
       "    <tr style=\"text-align: right;\">\n",
       "      <th></th>\n",
       "      <th>Date</th>\n",
       "      <th>Year</th>\n",
       "      <th>Month</th>\n",
       "      <th>Week</th>\n",
       "      <th>Season</th>\n",
       "    </tr>\n",
       "  </thead>\n",
       "  <tbody>\n",
       "    <tr>\n",
       "      <th>0</th>\n",
       "      <td>2010-02-05</td>\n",
       "      <td>2010</td>\n",
       "      <td>2</td>\n",
       "      <td>5</td>\n",
       "      <td>Winter</td>\n",
       "    </tr>\n",
       "    <tr>\n",
       "      <th>1</th>\n",
       "      <td>2010-02-12</td>\n",
       "      <td>2010</td>\n",
       "      <td>2</td>\n",
       "      <td>6</td>\n",
       "      <td>Winter</td>\n",
       "    </tr>\n",
       "    <tr>\n",
       "      <th>2</th>\n",
       "      <td>2010-02-19</td>\n",
       "      <td>2010</td>\n",
       "      <td>2</td>\n",
       "      <td>7</td>\n",
       "      <td>Winter</td>\n",
       "    </tr>\n",
       "    <tr>\n",
       "      <th>3</th>\n",
       "      <td>2010-02-26</td>\n",
       "      <td>2010</td>\n",
       "      <td>2</td>\n",
       "      <td>8</td>\n",
       "      <td>Winter</td>\n",
       "    </tr>\n",
       "    <tr>\n",
       "      <th>4</th>\n",
       "      <td>2010-03-05</td>\n",
       "      <td>2010</td>\n",
       "      <td>3</td>\n",
       "      <td>9</td>\n",
       "      <td>Spring</td>\n",
       "    </tr>\n",
       "  </tbody>\n",
       "</table>\n",
       "</div>"
      ],
      "text/plain": [
       "        Date  Year  Month  Week  Season\n",
       "0 2010-02-05  2010      2     5  Winter\n",
       "1 2010-02-12  2010      2     6  Winter\n",
       "2 2010-02-19  2010      2     7  Winter\n",
       "3 2010-02-26  2010      2     8  Winter\n",
       "4 2010-03-05  2010      3     9  Spring"
      ]
     },
     "execution_count": 12,
     "metadata": {},
     "output_type": "execute_result"
    }
   ],
   "source": [
    "# year, month, and ISO week number (1–53)\n",
    "df[\"Year\"]  = df[\"Date\"].dt.year\n",
    "df[\"Month\"] = df[\"Date\"].dt.month\n",
    "df[\"Week\"] = df[\"Date\"].dt.isocalendar().week.astype(int)\n",
    "\n",
    "# simple season label from month\n",
    "def month_to_season(m):\n",
    "    if m in (3, 4, 5): return \"Spring\"\n",
    "    if m in (6, 7, 8): return \"Summer\"\n",
    "    if m in (9, 10, 11): return \"Fall\"\n",
    "    return \"Winter\"\n",
    "\n",
    "df[\"Season\"] = df[\"Month\"].apply(month_to_season)\n",
    "\n",
    "# check\n",
    "df[[\"Date\",\"Year\",\"Month\",\"Week\",\"Season\"]].head()"
   ]
  },
  {
   "cell_type": "code",
   "execution_count": 18,
   "metadata": {},
   "outputs": [
    {
     "data": {
      "text/html": [
       "<div>\n",
       "<style scoped>\n",
       "    .dataframe tbody tr th:only-of-type {\n",
       "        vertical-align: middle;\n",
       "    }\n",
       "\n",
       "    .dataframe tbody tr th {\n",
       "        vertical-align: top;\n",
       "    }\n",
       "\n",
       "    .dataframe thead th {\n",
       "        text-align: right;\n",
       "    }\n",
       "</style>\n",
       "<table border=\"1\" class=\"dataframe\">\n",
       "  <thead>\n",
       "    <tr style=\"text-align: right;\">\n",
       "      <th></th>\n",
       "      <th>Store</th>\n",
       "      <th>Date</th>\n",
       "      <th>Weekly_Sales</th>\n",
       "      <th>Holiday_Flag</th>\n",
       "      <th>Temperature</th>\n",
       "      <th>Fuel_Price</th>\n",
       "      <th>CPI</th>\n",
       "      <th>Unemployment</th>\n",
       "      <th>Year</th>\n",
       "      <th>Month</th>\n",
       "      <th>Week</th>\n",
       "      <th>Season</th>\n",
       "    </tr>\n",
       "  </thead>\n",
       "  <tbody>\n",
       "    <tr>\n",
       "      <th>0</th>\n",
       "      <td>1</td>\n",
       "      <td>2010-02-05</td>\n",
       "      <td>1643690.90</td>\n",
       "      <td>0</td>\n",
       "      <td>42.31</td>\n",
       "      <td>2.572</td>\n",
       "      <td>211.096358</td>\n",
       "      <td>8.106</td>\n",
       "      <td>2010</td>\n",
       "      <td>2</td>\n",
       "      <td>5</td>\n",
       "      <td>Winter</td>\n",
       "    </tr>\n",
       "    <tr>\n",
       "      <th>1</th>\n",
       "      <td>1</td>\n",
       "      <td>2010-02-12</td>\n",
       "      <td>1641957.44</td>\n",
       "      <td>1</td>\n",
       "      <td>38.51</td>\n",
       "      <td>2.548</td>\n",
       "      <td>211.242170</td>\n",
       "      <td>8.106</td>\n",
       "      <td>2010</td>\n",
       "      <td>2</td>\n",
       "      <td>6</td>\n",
       "      <td>Winter</td>\n",
       "    </tr>\n",
       "    <tr>\n",
       "      <th>2</th>\n",
       "      <td>1</td>\n",
       "      <td>2010-02-19</td>\n",
       "      <td>1611968.17</td>\n",
       "      <td>0</td>\n",
       "      <td>39.93</td>\n",
       "      <td>2.514</td>\n",
       "      <td>211.289143</td>\n",
       "      <td>8.106</td>\n",
       "      <td>2010</td>\n",
       "      <td>2</td>\n",
       "      <td>7</td>\n",
       "      <td>Winter</td>\n",
       "    </tr>\n",
       "    <tr>\n",
       "      <th>3</th>\n",
       "      <td>1</td>\n",
       "      <td>2010-02-26</td>\n",
       "      <td>1409727.59</td>\n",
       "      <td>0</td>\n",
       "      <td>46.63</td>\n",
       "      <td>2.561</td>\n",
       "      <td>211.319643</td>\n",
       "      <td>8.106</td>\n",
       "      <td>2010</td>\n",
       "      <td>2</td>\n",
       "      <td>8</td>\n",
       "      <td>Winter</td>\n",
       "    </tr>\n",
       "    <tr>\n",
       "      <th>4</th>\n",
       "      <td>1</td>\n",
       "      <td>2010-03-05</td>\n",
       "      <td>1554806.68</td>\n",
       "      <td>0</td>\n",
       "      <td>46.50</td>\n",
       "      <td>2.625</td>\n",
       "      <td>211.350143</td>\n",
       "      <td>8.106</td>\n",
       "      <td>2010</td>\n",
       "      <td>3</td>\n",
       "      <td>9</td>\n",
       "      <td>Spring</td>\n",
       "    </tr>\n",
       "  </tbody>\n",
       "</table>\n",
       "</div>"
      ],
      "text/plain": [
       "   Store       Date  Weekly_Sales  Holiday_Flag  Temperature  Fuel_Price  \\\n",
       "0      1 2010-02-05    1643690.90             0        42.31       2.572   \n",
       "1      1 2010-02-12    1641957.44             1        38.51       2.548   \n",
       "2      1 2010-02-19    1611968.17             0        39.93       2.514   \n",
       "3      1 2010-02-26    1409727.59             0        46.63       2.561   \n",
       "4      1 2010-03-05    1554806.68             0        46.50       2.625   \n",
       "\n",
       "          CPI  Unemployment  Year  Month  Week  Season  \n",
       "0  211.096358         8.106  2010      2     5  Winter  \n",
       "1  211.242170         8.106  2010      2     6  Winter  \n",
       "2  211.289143         8.106  2010      2     7  Winter  \n",
       "3  211.319643         8.106  2010      2     8  Winter  \n",
       "4  211.350143         8.106  2010      3     9  Spring  "
      ]
     },
     "execution_count": 18,
     "metadata": {},
     "output_type": "execute_result"
    }
   ],
   "source": [
    "# check table\n",
    "df.head()"
   ]
  },
  {
   "cell_type": "markdown",
   "metadata": {},
   "source": [
    "## Concentration\n",
    "\n",
    "The goal here is to sort stores by total sales, then see how many stores we need to reach 50% and 80% of total revenue.\n",
    "\n",
    "**Why 50% and 80%?**\n",
    "- **50%** = “How many stores make up half of total sales?” Easy story for business partners.\n",
    "- **80%** = classic **Pareto 80/20** check. If a small number of stores reach 80%, sales are highly concentrated."
   ]
  },
  {
   "cell_type": "code",
   "execution_count": 80,
   "metadata": {},
   "outputs": [
    {
     "name": "stdout",
     "output_type": "stream",
     "text": [
      "Stores we needed to reach 50% of total sales: 14\n",
      "Stores we needed to reach 80% of total sales: 27\n"
     ]
    },
    {
     "data": {
      "text/html": [
       "<div>\n",
       "<style scoped>\n",
       "    .dataframe tbody tr th:only-of-type {\n",
       "        vertical-align: middle;\n",
       "    }\n",
       "\n",
       "    .dataframe tbody tr th {\n",
       "        vertical-align: top;\n",
       "    }\n",
       "\n",
       "    .dataframe thead th {\n",
       "        text-align: right;\n",
       "    }\n",
       "</style>\n",
       "<table border=\"1\" class=\"dataframe\">\n",
       "  <thead>\n",
       "    <tr style=\"text-align: right;\">\n",
       "      <th></th>\n",
       "      <th>Store</th>\n",
       "      <th>total_sales</th>\n",
       "      <th>Cumulative_Sales</th>\n",
       "      <th>Cumulative_Share</th>\n",
       "    </tr>\n",
       "  </thead>\n",
       "  <tbody>\n",
       "    <tr>\n",
       "      <th>13</th>\n",
       "      <td>24</td>\n",
       "      <td>1.940160e+08</td>\n",
       "      <td>3.429935e+09</td>\n",
       "      <td>0.509103</td>\n",
       "    </tr>\n",
       "  </tbody>\n",
       "</table>\n",
       "</div>"
      ],
      "text/plain": [
       "    Store   total_sales  Cumulative_Sales  Cumulative_Share\n",
       "13     24  1.940160e+08      3.429935e+09          0.509103"
      ]
     },
     "metadata": {},
     "output_type": "display_data"
    },
    {
     "data": {
      "text/html": [
       "<div>\n",
       "<style scoped>\n",
       "    .dataframe tbody tr th:only-of-type {\n",
       "        vertical-align: middle;\n",
       "    }\n",
       "\n",
       "    .dataframe tbody tr th {\n",
       "        vertical-align: top;\n",
       "    }\n",
       "\n",
       "    .dataframe thead th {\n",
       "        text-align: right;\n",
       "    }\n",
       "</style>\n",
       "<table border=\"1\" class=\"dataframe\">\n",
       "  <thead>\n",
       "    <tr style=\"text-align: right;\">\n",
       "      <th></th>\n",
       "      <th>Store</th>\n",
       "      <th>total_sales</th>\n",
       "      <th>Cumulative_Sales</th>\n",
       "      <th>Cumulative_Share</th>\n",
       "    </tr>\n",
       "  </thead>\n",
       "  <tbody>\n",
       "    <tr>\n",
       "      <th>26</th>\n",
       "      <td>17</td>\n",
       "      <td>1.277821e+08</td>\n",
       "      <td>5.416591e+09</td>\n",
       "      <td>0.80398</td>\n",
       "    </tr>\n",
       "  </tbody>\n",
       "</table>\n",
       "</div>"
      ],
      "text/plain": [
       "    Store   total_sales  Cumulative_Sales  Cumulative_Share\n",
       "26     17  1.277821e+08      5.416591e+09           0.80398"
      ]
     },
     "metadata": {},
     "output_type": "display_data"
    },
    {
     "name": "stdout",
     "output_type": "stream",
     "text": [
      "The list of stores needed to reach 50%:\n",
      "[20, 4, 14, 13, 2, 10, 27, 6, 1, 39, 19, 31, 23, 24]\n",
      "The list of stores needed to reach 80%:\n",
      "[20, 4, 14, 13, 2, 10, 27, 6, 1, 39, 19, 31, 23, 24, 11, 28, 41, 32, 18, 22, 12, 26, 34, 40, 35, 8, 17]\n"
     ]
    }
   ],
   "source": [
    "import sqlite3\n",
    "\n",
    "# Create a temporary SQL database in memory\n",
    "con = sqlite3.connect(\":memory:\")\n",
    "\n",
    "# Copy our DataFrame into SQL\n",
    "df_sql = df.copy()\n",
    "df_sql[\"Date\"] = df_sql[\"Date\"].dt.strftime(\"%Y-%m-%d\")  # convert datetime to string for SQL\n",
    "df_sql.to_sql(\"walmart_sales\", con, index=False, if_exists=\"replace\")\n",
    "\n",
    "# Find the total sales per store\n",
    "query_totals = \"\"\"\n",
    "SELECT Store, SUM(Weekly_Sales) AS total_sales\n",
    "FROM walmart_sales\n",
    "GROUP BY Store\n",
    "ORDER BY total_sales DESC;\n",
    "\"\"\"\n",
    "store_totals = pd.read_sql(query_totals, con)\n",
    "store_totals.head(10)\n",
    "\n",
    "# Calculate cumulative share\n",
    "store_totals[\"Cumulative_Sales\"] = store_totals[\"total_sales\"].cumsum()\n",
    "total_sum = store_totals[\"total_sales\"].sum()\n",
    "store_totals[\"Cumulative_Share\"] = store_totals[\"Cumulative_Sales\"] / total_sum\n",
    "store_totals.head(10)\n",
    "\n",
    "# Find store numbers to 50 and N80\n",
    "n50 = (store_totals[\"Cumulative_Share\"] < 0.5).sum() + 1  # +1 b/c start from 0\n",
    "n80 = (store_totals[\"Cumulative_Share\"] < 0.8).sum() + 1\n",
    "\n",
    "print(f\"Stores we needed to reach 50% of total sales: {n50}\")\n",
    "print(f\"Stores we needed to reach 80% of total sales: {n80}\")\n",
    "\n",
    "cross_50 = store_totals.iloc[[n50 - 1]]\n",
    "display(cross_50)\n",
    "\n",
    "cross_80 = store_totals.iloc[[n80 - 1]]\n",
    "display(cross_80)\n",
    "\n",
    "# To double check\n",
    "# store_totals.head(27)\n",
    "\n",
    "top_50_stores = store_totals.iloc[:n50][\"Store\"].tolist()\n",
    "print(\"The list of stores needed to reach 50%:\")\n",
    "print(top_50_stores)\n",
    "\n",
    "top_80_stores = store_totals.iloc[:n80][\"Store\"].tolist()\n",
    "print(\"The list of stores needed to reach 80%:\")\n",
    "print(top_80_stores)"
   ]
  },
  {
   "cell_type": "markdown",
   "metadata": {},
   "source": [
    "## Holiday Impact\n",
    "\n",
    "The goal here is to understand how holidays impact Walmart’s weekly sales."
   ]
  },
  {
   "cell_type": "code",
   "execution_count": 122,
   "metadata": {},
   "outputs": [
    {
     "name": "stdout",
     "output_type": "stream",
     "text": [
      "Holiday weeks: 450\n",
      "Non-holiday weeks: 5985\n",
      "Average Weekly Sales during Holiday Weeks: $1,122,887.89\n",
      "Average Weekly Sales during Non-Holiday Weeks: $1,041,256.38\n"
     ]
    }
   ],
   "source": [
    "# Separate data into holiday and non-holiday weeks\n",
    "holiday_sales = df[df[\"Holiday_Flag\"] == 1]\n",
    "non_holiday_sales = df[df[\"Holiday_Flag\"] == 0]\n",
    "\n",
    "# Display how many holiday and non-holiday weeks we have\n",
    "print(f\"Holiday weeks: {holiday_sales.shape[0]}\")\n",
    "print(f\"Non-holiday weeks: {non_holiday_sales.shape[0]}\")\n",
    "\n",
    "# Calculate mean weekly sales\n",
    "holiday_avg = holiday_sales[\"Weekly_Sales\"].mean()\n",
    "nonholiday_avg = non_holiday_sales[\"Weekly_Sales\"].mean()\n",
    "\n",
    "print(f\"Average Weekly Sales during Holiday Weeks: ${holiday_avg:,.2f}\")\n",
    "print(f\"Average Weekly Sales during Non-Holiday Weeks: ${nonholiday_avg:,.2f}\")"
   ]
  },
  {
   "cell_type": "code",
   "execution_count": 145,
   "metadata": {},
   "outputs": [
    {
     "name": "stderr",
     "output_type": "stream",
     "text": [
      "/var/folders/m7/ss8z8qzd41xf6brzq59dgl9c0000gn/T/ipykernel_3060/1572825314.py:5: MatplotlibDeprecationWarning: The 'labels' parameter of boxplot() has been renamed 'tick_labels' since Matplotlib 3.9; support for the old name will be dropped in 3.11.\n",
      "  plt.boxplot(\n"
     ]
    },
    {
     "data": {
      "image/png": "[encoded data removed]",
      "text/plain": [
       "<Figure size 600x400 with 1 Axes>"
      ]
     },
     "metadata": {},
     "output_type": "display_data"
    }
   ],
   "source": [
    "import matplotlib.pyplot as plt\n",
    "\n",
    "# Box plot\n",
    "plt.figure(figsize=(6,4))\n",
    "plt.boxplot(\n",
    "    [non_holiday_sales[\"Weekly_Sales\"], holiday_sales[\"Weekly_Sales\"]],\n",
    "    labels=[\"Non-Holiday\", \"Holiday\"],\n",
    "    patch_artist=True\n",
    ")\n",
    "plt.title(\"Weekly Sales Distribution — Holiday vs Non-Holiday Weeks\")\n",
    "plt.ylabel(\"Weekly Sales ($)\")\n",
    "plt.grid(axis=\"y\", linestyle=\"--\", alpha=0.6)\n",
    "plt.show()\n"
   ]
  },
  {
   "cell_type": "markdown",
   "metadata": {},
   "source": [
    "## Seasonality\n",
    "\n",
    "The goal here is to see how sales change throughout the year, by month and season."
   ]
  },
  {
   "cell_type": "code",
   "execution_count": 152,
   "metadata": {},
   "outputs": [
    {
     "name": "stdout",
     "output_type": "stream",
     "text": [
      "Total Monthly Sales:\n",
      "    Month  Weekly_Sales\n",
      "0       1  3.325984e+08\n",
      "1       2  5.687279e+08\n",
      "2       3  5.927859e+08\n",
      "3       4  6.468598e+08\n",
      "4       5  5.571256e+08\n",
      "5       6  6.226299e+08\n",
      "6       7  6.500010e+08\n",
      "7       8  6.130902e+08\n",
      "8       9  5.787612e+08\n",
      "9      10  5.847848e+08\n",
      "10     11  4.130157e+08\n",
      "11     12  5.768386e+08\n",
      "\n",
      "Total Seasonal Sales:\n",
      "   Season  Weekly_Sales\n",
      "0    Fall  1.576562e+09\n",
      "1  Spring  1.796771e+09\n",
      "2  Summer  1.885721e+09\n",
      "3  Winter  1.478165e+09\n"
     ]
    }
   ],
   "source": [
    "# Aggregate total and average sales by month\n",
    "monthly_sales = df.groupby(\"Month\")[\"Weekly_Sales\"].sum().reset_index()\n",
    "# monthly_avg = df.groupby(\"Month\")[\"Weekly_Sales\"].mean().reset_index()\n",
    "\n",
    "# Aggregate total and average sales by season\n",
    "seasonal_sales = df.groupby(\"Season\")[\"Weekly_Sales\"].sum().reset_index()\n",
    "# seasonal_avg = df.groupby(\"Season\")[\"Weekly_Sales\"].mean().reset_index()\n",
    "\n",
    "# Overview\n",
    "print(\"Total Monthly Sales:\")\n",
    "print(monthly_sales)\n",
    "print(\"\\nTotal Seasonal Sales:\")\n",
    "print(seasonal_sales)"
   ]
  },
  {
   "cell_type": "code",
   "execution_count": 154,
   "metadata": {},
   "outputs": [
    {
     "name": "stdout",
     "output_type": "stream",
     "text": [
      "Monthly Summary:\n",
      "    Month   total_sales     avg_sales\n",
      "0       1  3.325984e+08  9.238846e+05\n",
      "1       2  5.687279e+08  1.053200e+06\n",
      "2       3  5.927859e+08  1.013309e+06\n",
      "3       4  6.468598e+08  1.026762e+06\n",
      "4       5  5.571256e+08  1.031714e+06\n",
      "5       6  6.226299e+08  1.064325e+06\n",
      "6       7  6.500010e+08  1.031748e+06\n",
      "7       8  6.130902e+08  1.048017e+06\n",
      "8       9  5.787612e+08  9.893353e+05\n",
      "9      10  5.847848e+08  9.996321e+05\n",
      "10     11  4.130157e+08  1.147266e+06\n",
      "11     12  5.768386e+08  1.281864e+06\n",
      "\n",
      "Seasonal Summary:\n",
      "   Season   total_sales     avg_sales\n",
      "0    Fall  1.576562e+09  1.030432e+06\n",
      "1  Spring  1.796771e+09  1.023801e+06\n",
      "2  Summer  1.885721e+09  1.047623e+06\n",
      "3  Winter  1.478165e+09  1.094937e+06\n"
     ]
    }
   ],
   "source": [
    "# Monthly totals and averages\n",
    "monthly_summary = (\n",
    "    df.groupby(\"Month\")[\"Weekly_Sales\"]\n",
    "      .agg(total_sales=\"sum\", avg_sales=\"mean\")\n",
    "      .reset_index()\n",
    ")\n",
    "\n",
    "# Seasonal totals and averages\n",
    "seasonal_summary = (\n",
    "    df.groupby(\"Season\")[\"Weekly_Sales\"]\n",
    "      .agg(total_sales=\"sum\", avg_sales=\"mean\")\n",
    "      .reset_index()\n",
    ")\n",
    "\n",
    "print(\"Monthly Summary:\")\n",
    "print(monthly_summary)\n",
    "print(\"\\nSeasonal Summary:\")\n",
    "print(seasonal_summary)"
   ]
  },
  {
   "cell_type": "code",
   "execution_count": 161,
   "metadata": {},
   "outputs": [
    {
     "data": {
      "image/png": "[encoded data removed]",
      "text/plain": [
       "<Figure size 600x400 with 1 Axes>"
      ]
     },
     "metadata": {},
     "output_type": "display_data"
    }
   ],
   "source": [
    "import matplotlib.pyplot as plt\n",
    "\n",
    "# Average Monthly Sales\n",
    "plt.figure(figsize=(6,4))\n",
    "plt.plot(monthly_summary[\"Month\"], monthly_summary[\"avg_sales\"]/1e9, marker=\"o\", linewidth=2)\n",
    "plt.title(\"Average Weekly Sales by Month\")\n",
    "plt.xlabel(\"Month\")\n",
    "plt.ylabel(\"Average Weekly Sales (in millions)\")\n",
    "plt.grid(alpha=0.5)\n",
    "plt.show()"
   ]
  },
  {
   "cell_type": "code",
   "execution_count": 159,
   "metadata": {},
   "outputs": [
    {
     "data": {
      "image/png": "[encoded data removed]",
      "text/plain": [
       "<Figure size 600x400 with 1 Axes>"
      ]
     },
     "metadata": {},
     "output_type": "display_data"
    }
   ],
   "source": [
    "# Average Seasonal Sales\n",
    "plt.figure(figsize=(6,4))\n",
    "plt.bar(seasonal_summary[\"Season\"], seasonal_summary[\"avg_sales\"]/1e6,\n",
    "        color=[\"#66b3ff\",\"#99ff99\",\"#ffcc99\",\"#ff9999\"])\n",
    "plt.title(\"Average Weekly Sales by Season\")\n",
    "plt.ylabel(\"Average Weekly Sales (in millions)\")\n",
    "plt.grid(axis=\"y\", linestyle=\"--\", alpha=0.6)\n",
    "plt.show()\n"
   ]
  },
  {
   "cell_type": "code",
   "execution_count": 167,
   "metadata": {},
   "outputs": [
    {
     "data": {
      "image/png": "[encoded data removed]",
      "text/plain": [
       "<Figure size 600x400 with 1 Axes>"
      ]
     },
     "metadata": {},
     "output_type": "display_data"
    }
   ],
   "source": [
    "# Average weekly sales per (Year, Month)\n",
    "year_month_avg = (\n",
    "    df.groupby([\"Year\", \"Month\"])[\"Weekly_Sales\"]\n",
    "      .mean()\n",
    "      .reset_index(name=\"avg_weekly_sales\")\n",
    ")\n",
    "\n",
    "import matplotlib.pyplot as plt\n",
    "\n",
    "plt.figure(figsize=(6,4))\n",
    "for year, data in year_month_avg.groupby(\"Year\"):\n",
    "    data = data.sort_values(\"Month\")\n",
    "    plt.plot(data[\"Month\"], data[\"avg_weekly_sales\"]/1e6, marker=\"o\", label=str(year))\n",
    "\n",
    "plt.title(\"Monthly Average Weekly Sales by Year\")\n",
    "plt.xlabel(\"Month\")\n",
    "plt.ylabel(\"Avg Weekly Sales (in millions)\")\n",
    "plt.legend(title=\"Year\", ncol=2, fontsize=8)\n",
    "plt.grid(alpha=0.5)\n",
    "plt.show()\n"
   ]
  },
  {
   "cell_type": "markdown",
   "metadata": {},
   "source": [
    "## Trend Direction\n",
    "\n",
    "The goal here is to"
   ]
  },
  {
   "cell_type": "markdown",
   "metadata": {},
   "source": [
    "## Macro Factors\n",
    "\n",
    "The goal here is to"
   ]
  }
 ],
 "metadata": {
  "kernelspec": {
   "display_name": "Python 3",
   "language": "python",
   "name": "python3"
  },
  "language_info": {
   "codemirror_mode": {
    "name": "ipython",
    "version": 3
   },
   "file_extension": ".py",
   "mimetype": "text/x-python",
   "name": "python",
   "nbconvert_exporter": "python",
   "pygments_lexer": "ipython3",
   "version": "3.9.6"
  }
 },
 "nbformat": 4,
 "nbformat_minor": 2
}
